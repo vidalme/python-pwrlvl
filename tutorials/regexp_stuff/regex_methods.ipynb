{
 "cells": [
  {
   "cell_type": "markdown",
   "id": "b7eb3e9f-399a-42ff-92aa-4154680ca501",
   "metadata": {},
   "source": [
    "<h1>Regex Metodos</h1>"
   ]
  },
  {
   "cell_type": "code",
   "execution_count": 10,
   "id": "919b87fb-7fef-46ea-b519-ef49ab5ed525",
   "metadata": {},
   "outputs": [],
   "source": [
    "import re"
   ]
  },
  {
   "cell_type": "code",
   "execution_count": 11,
   "id": "b5323725-e304-4eb3-9260-e29058b117ab",
   "metadata": {},
   "outputs": [],
   "source": [
    "quote = \"There's only one thing I hate more than lying: skim milk. Which is water that's lying about being milk. - Ron Swanson\""
   ]
  },
  {
   "cell_type": "code",
   "execution_count": 12,
   "id": "eee812a2-b0b7-41b1-a3b3-9943181f55b3",
   "metadata": {},
   "outputs": [
    {
     "data": {
      "text/plain": [
       "<re.Match object; span=(52, 56), match='milk'>"
      ]
     },
     "execution_count": 12,
     "metadata": {},
     "output_type": "execute_result"
    }
   ],
   "source": [
    "re.search(\"milk\",quote)"
   ]
  },
  {
   "cell_type": "code",
   "execution_count": 13,
   "id": "64c3f34c-3096-4dc1-b193-c5393d03497a",
   "metadata": {},
   "outputs": [
    {
     "data": {
      "text/plain": [
       "['milk', 'milk']"
      ]
     },
     "execution_count": 13,
     "metadata": {},
     "output_type": "execute_result"
    }
   ],
   "source": [
    "re.findall(\"milk\",quote)"
   ]
  },
  {
   "cell_type": "code",
   "execution_count": 14,
   "id": "fd18d32a-4551-48c5-97f4-ee0c3faf7e33",
   "metadata": {},
   "outputs": [
    {
     "data": {
      "text/plain": [
       "2"
      ]
     },
     "execution_count": 14,
     "metadata": {},
     "output_type": "execute_result"
    }
   ],
   "source": [
    "len(re.findall(\"milk\",quote))"
   ]
  },
  {
   "cell_type": "code",
   "execution_count": 18,
   "id": "3f76ef49-0ac6-4ea3-b1b7-67e24c1303aa",
   "metadata": {},
   "outputs": [
    {
     "data": {
      "text/plain": [
       "[\"There's only one thing I hate more than lying: skim milk\",\n",
       " \" Which is water that's lying about being milk\",\n",
       " ' - Ron Swanson']"
      ]
     },
     "execution_count": 18,
     "metadata": {},
     "output_type": "execute_result"
    }
   ],
   "source": [
    "re.split(\"\\.\",quote)"
   ]
  },
  {
   "cell_type": "code",
   "execution_count": 19,
   "id": "128451fb-a238-4653-bfbd-2514e3f68386",
   "metadata": {},
   "outputs": [
    {
     "data": {
      "text/plain": [
       "\"There's only one thing I hate more than lying: skim dairy. Which is water that's lying about being dairy. - Ron Swanson\""
      ]
     },
     "execution_count": 19,
     "metadata": {},
     "output_type": "execute_result"
    }
   ],
   "source": [
    "re.sub(\"milk\",\"dairy\",quote)"
   ]
  },
  {
   "cell_type": "code",
   "execution_count": null,
   "id": "afa58565-1546-4425-a9ef-e7b7f9421569",
   "metadata": {},
   "outputs": [],
   "source": []
  },
  {
   "cell_type": "code",
   "execution_count": null,
   "id": "6bc3ebaf-8a7f-4832-88ea-411fe3376daa",
   "metadata": {},
   "outputs": [],
   "source": []
  },
  {
   "cell_type": "code",
   "execution_count": null,
   "id": "e269a386-ce02-4fb1-973c-0d018102a147",
   "metadata": {},
   "outputs": [],
   "source": []
  },
  {
   "cell_type": "code",
   "execution_count": null,
   "id": "29999bfc-92dd-461e-8bd8-98cc3a9346a8",
   "metadata": {},
   "outputs": [],
   "source": []
  }
 ],
 "metadata": {
  "kernelspec": {
   "display_name": "Python 3 (ipykernel)",
   "language": "python",
   "name": "python3"
  },
  "language_info": {
   "codemirror_mode": {
    "name": "ipython",
    "version": 3
   },
   "file_extension": ".py",
   "mimetype": "text/x-python",
   "name": "python",
   "nbconvert_exporter": "python",
   "pygments_lexer": "ipython3",
   "version": "3.10.12"
  }
 },
 "nbformat": 4,
 "nbformat_minor": 5
}
