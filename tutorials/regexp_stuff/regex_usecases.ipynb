{
 "cells": [
  {
   "cell_type": "markdown",
   "id": "2dfb04aa-5025-4f8e-b0b0-d063d03af19c",
   "metadata": {},
   "source": [
    "<h1>Regex Use Cases</h1>"
   ]
  },
  {
   "cell_type": "code",
   "execution_count": 23,
   "id": "01a07437-d9cb-445c-b021-10f1490329c4",
   "metadata": {},
   "outputs": [],
   "source": [
    "import re\n",
    "\n",
    "random_text = '''\n",
    "My name is Mr. Neo. My phone number is 123-456-7890. My email is ChosenOne@gmail.com\n",
    "My name is Mr. Morphius. My phone number is 413-234-2568. My email is CoolGuy@yahoo.com. \n",
    "My name is Mrs. Trinity. My phone number is 285-036-8215. My email is ChosenOnesGirl1@apple.com.\n",
    "'''"
   ]
  },
  {
   "cell_type": "code",
   "execution_count": 24,
   "id": "e4d8b6a4-a0a6-4508-8c9c-dd6aea315f48",
   "metadata": {},
   "outputs": [
    {
     "data": {
      "text/plain": [
       "['@gmail', '@yahoo', '@apple']"
      ]
     },
     "execution_count": 24,
     "metadata": {},
     "output_type": "execute_result"
    }
   ],
   "source": [
    "re.findall('@[a-z]+',random_text)"
   ]
  },
  {
   "cell_type": "code",
   "execution_count": 25,
   "id": "b5f88f77-d949-4089-bd87-87efedf98e66",
   "metadata": {},
   "outputs": [
    {
     "data": {
      "text/plain": [
       "['gmail', 'yahoo', 'apple']"
      ]
     },
     "execution_count": 25,
     "metadata": {},
     "output_type": "execute_result"
    }
   ],
   "source": [
    "re.findall('@([a-z]+)',random_text)"
   ]
  },
  {
   "cell_type": "code",
   "execution_count": 26,
   "id": "9e11b458-d413-43ac-ad57-82d3afa45ec2",
   "metadata": {},
   "outputs": [
    {
     "data": {
      "text/plain": [
       "['gmail.com', 'yahoo.com.', 'apple.com.']"
      ]
     },
     "execution_count": 26,
     "metadata": {},
     "output_type": "execute_result"
    }
   ],
   "source": [
    "re.findall('@([\\w\\.]+)',random_text)"
   ]
  },
  {
   "cell_type": "code",
   "execution_count": 27,
   "id": "b0089104-5675-437f-818d-79c2fb75ea3c",
   "metadata": {},
   "outputs": [
    {
     "data": {
      "text/plain": [
       "['ChosenOne@gmail.com', 'CoolGuy@yahoo.com.', 'ChosenOnesGirl1@apple.com.']"
      ]
     },
     "execution_count": 27,
     "metadata": {},
     "output_type": "execute_result"
    }
   ],
   "source": [
    "re.findall('[\\w]+@[\\w\\.]+',random_text)"
   ]
  },
  {
   "cell_type": "markdown",
   "id": "b3435e34-a838-41e3-8062-80920003afaa",
   "metadata": {},
   "source": [
    "<h4>Minha tentativa</h4>"
   ]
  },
  {
   "cell_type": "code",
   "execution_count": 28,
   "id": "36b059ec-6023-4d4f-88f1-4c149f24e877",
   "metadata": {},
   "outputs": [
    {
     "data": {
      "text/plain": [
       "['123-456-7890', '413-234-2568', '285-036-8215']"
      ]
     },
     "execution_count": 28,
     "metadata": {},
     "output_type": "execute_result"
    }
   ],
   "source": [
    "re.findall('[\\d]+\\-[\\d]+\\-[\\d]+',random_text)"
   ]
  },
  {
   "cell_type": "markdown",
   "id": "824ece90-704b-47fa-8177-f11474979556",
   "metadata": {},
   "source": [
    "<h4>Back to Tutorial</h4>"
   ]
  },
  {
   "cell_type": "code",
   "execution_count": 31,
   "id": "3a140d73-f420-451b-b16f-015434bceb73",
   "metadata": {},
   "outputs": [
    {
     "data": {
      "text/plain": [
       "['123-456-7890', '413-234-2568', '285-036-8215']"
      ]
     },
     "execution_count": 31,
     "metadata": {},
     "output_type": "execute_result"
    }
   ],
   "source": [
    "re.findall('\\d{3}-\\d{3}-\\d{4}',random_text)"
   ]
  },
  {
   "cell_type": "code",
   "execution_count": 33,
   "id": "778b3bdf-a94e-4d19-86f8-cf5c24eb27e6",
   "metadata": {},
   "outputs": [],
   "source": [
    "my_list = ['ChosenOne@gmail.com', 'CoolGuy@yahoo.com.', 'ChosenOnesGirl1@apple.com.']"
   ]
  },
  {
   "cell_type": "code",
   "execution_count": 34,
   "id": "abeebe58-8496-4d38-8666-a33f00d098fe",
   "metadata": {},
   "outputs": [],
   "source": [
    "texto = 'Tres tigres tristes comeram tres pratos de trigo'"
   ]
  },
  {
   "cell_type": "code",
   "execution_count": 80,
   "id": "9ea83899-b2ed-4f56-b1e0-dba65f825506",
   "metadata": {},
   "outputs": [
    {
     "data": {
      "text/plain": [
       "['Tres', 'tigres', 'tristes', 'tres', 'tos']"
      ]
     },
     "execution_count": 80,
     "metadata": {},
     "output_type": "execute_result"
    }
   ],
   "source": [
    "re.findall('[t|T]\\w*[s]+',texto)"
   ]
  },
  {
   "cell_type": "code",
   "execution_count": null,
   "id": "bb67bc69-032c-4683-812c-f8fe66f77081",
   "metadata": {},
   "outputs": [],
   "source": []
  }
 ],
 "metadata": {
  "kernelspec": {
   "display_name": "Python 3 (ipykernel)",
   "language": "python",
   "name": "python3"
  },
  "language_info": {
   "codemirror_mode": {
    "name": "ipython",
    "version": 3
   },
   "file_extension": ".py",
   "mimetype": "text/x-python",
   "name": "python",
   "nbconvert_exporter": "python",
   "pygments_lexer": "ipython3",
   "version": "3.10.12"
  }
 },
 "nbformat": 4,
 "nbformat_minor": 5
}
